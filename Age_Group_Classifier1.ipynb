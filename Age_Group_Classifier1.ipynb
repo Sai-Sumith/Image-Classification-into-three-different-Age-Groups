{
  "nbformat": 4,
  "nbformat_minor": 0,
  "metadata": {
    "colab": {
      "name": "Copy of hacker.ipynb",
      "provenance": [],
      "collapsed_sections": []
    },
    "kernelspec": {
      "name": "python3",
      "display_name": "Python 3"
    },
    "accelerator": "GPU",
    "widgets": {
      "application/vnd.jupyter.widget-state+json": {
        "c62cfec1d1cc4342b0037ad3d4ab07e5": {
          "model_module": "@jupyter-widgets/controls",
          "model_name": "HBoxModel",
          "state": {
            "_view_name": "HBoxView",
            "_dom_classes": [],
            "_model_name": "HBoxModel",
            "_view_module": "@jupyter-widgets/controls",
            "_model_module_version": "1.5.0",
            "_view_count": null,
            "_view_module_version": "1.5.0",
            "box_style": "",
            "layout": "IPY_MODEL_379cf2982af9482a99e54639a9bea70e",
            "_model_module": "@jupyter-widgets/controls",
            "children": [
              "IPY_MODEL_abba4815b2194a93a1f8990e3ce64aa6",
              "IPY_MODEL_aa5b7958d42340668eb7f6528e95ffcf"
            ]
          }
        },
        "379cf2982af9482a99e54639a9bea70e": {
          "model_module": "@jupyter-widgets/base",
          "model_name": "LayoutModel",
          "state": {
            "_view_name": "LayoutView",
            "grid_template_rows": null,
            "right": null,
            "justify_content": null,
            "_view_module": "@jupyter-widgets/base",
            "overflow": null,
            "_model_module_version": "1.2.0",
            "_view_count": null,
            "flex_flow": null,
            "width": null,
            "min_width": null,
            "border": null,
            "align_items": null,
            "bottom": null,
            "_model_module": "@jupyter-widgets/base",
            "top": null,
            "grid_column": null,
            "overflow_y": null,
            "overflow_x": null,
            "grid_auto_flow": null,
            "grid_area": null,
            "grid_template_columns": null,
            "flex": null,
            "_model_name": "LayoutModel",
            "justify_items": null,
            "grid_row": null,
            "max_height": null,
            "align_content": null,
            "visibility": null,
            "align_self": null,
            "height": null,
            "min_height": null,
            "padding": null,
            "grid_auto_rows": null,
            "grid_gap": null,
            "max_width": null,
            "order": null,
            "_view_module_version": "1.2.0",
            "grid_template_areas": null,
            "object_position": null,
            "object_fit": null,
            "grid_auto_columns": null,
            "margin": null,
            "display": null,
            "left": null
          }
        },
        "abba4815b2194a93a1f8990e3ce64aa6": {
          "model_module": "@jupyter-widgets/controls",
          "model_name": "FloatProgressModel",
          "state": {
            "_view_name": "ProgressView",
            "style": "IPY_MODEL_cd056bce89f747a5b78eec71649304b4",
            "_dom_classes": [],
            "description": "100%",
            "_model_name": "FloatProgressModel",
            "bar_style": "success",
            "max": 574673361,
            "_view_module": "@jupyter-widgets/controls",
            "_model_module_version": "1.5.0",
            "value": 574673361,
            "_view_count": null,
            "_view_module_version": "1.5.0",
            "orientation": "horizontal",
            "min": 0,
            "description_tooltip": null,
            "_model_module": "@jupyter-widgets/controls",
            "layout": "IPY_MODEL_c98fd311187043078071e000deb8c5b8"
          }
        },
        "aa5b7958d42340668eb7f6528e95ffcf": {
          "model_module": "@jupyter-widgets/controls",
          "model_name": "HTMLModel",
          "state": {
            "_view_name": "HTMLView",
            "style": "IPY_MODEL_e2ccdc52c0d148b2b02efbff96cb78fe",
            "_dom_classes": [],
            "description": "",
            "_model_name": "HTMLModel",
            "placeholder": "​",
            "_view_module": "@jupyter-widgets/controls",
            "_model_module_version": "1.5.0",
            "value": " 548M/548M [23:15&lt;00:00, 412kB/s]",
            "_view_count": null,
            "_view_module_version": "1.5.0",
            "description_tooltip": null,
            "_model_module": "@jupyter-widgets/controls",
            "layout": "IPY_MODEL_03e1827039a34abbbf4ea94561031c3c"
          }
        },
        "cd056bce89f747a5b78eec71649304b4": {
          "model_module": "@jupyter-widgets/controls",
          "model_name": "ProgressStyleModel",
          "state": {
            "_view_name": "StyleView",
            "_model_name": "ProgressStyleModel",
            "description_width": "initial",
            "_view_module": "@jupyter-widgets/base",
            "_model_module_version": "1.5.0",
            "_view_count": null,
            "_view_module_version": "1.2.0",
            "bar_color": null,
            "_model_module": "@jupyter-widgets/controls"
          }
        },
        "c98fd311187043078071e000deb8c5b8": {
          "model_module": "@jupyter-widgets/base",
          "model_name": "LayoutModel",
          "state": {
            "_view_name": "LayoutView",
            "grid_template_rows": null,
            "right": null,
            "justify_content": null,
            "_view_module": "@jupyter-widgets/base",
            "overflow": null,
            "_model_module_version": "1.2.0",
            "_view_count": null,
            "flex_flow": null,
            "width": null,
            "min_width": null,
            "border": null,
            "align_items": null,
            "bottom": null,
            "_model_module": "@jupyter-widgets/base",
            "top": null,
            "grid_column": null,
            "overflow_y": null,
            "overflow_x": null,
            "grid_auto_flow": null,
            "grid_area": null,
            "grid_template_columns": null,
            "flex": null,
            "_model_name": "LayoutModel",
            "justify_items": null,
            "grid_row": null,
            "max_height": null,
            "align_content": null,
            "visibility": null,
            "align_self": null,
            "height": null,
            "min_height": null,
            "padding": null,
            "grid_auto_rows": null,
            "grid_gap": null,
            "max_width": null,
            "order": null,
            "_view_module_version": "1.2.0",
            "grid_template_areas": null,
            "object_position": null,
            "object_fit": null,
            "grid_auto_columns": null,
            "margin": null,
            "display": null,
            "left": null
          }
        },
        "e2ccdc52c0d148b2b02efbff96cb78fe": {
          "model_module": "@jupyter-widgets/controls",
          "model_name": "DescriptionStyleModel",
          "state": {
            "_view_name": "StyleView",
            "_model_name": "DescriptionStyleModel",
            "description_width": "",
            "_view_module": "@jupyter-widgets/base",
            "_model_module_version": "1.5.0",
            "_view_count": null,
            "_view_module_version": "1.2.0",
            "_model_module": "@jupyter-widgets/controls"
          }
        },
        "03e1827039a34abbbf4ea94561031c3c": {
          "model_module": "@jupyter-widgets/base",
          "model_name": "LayoutModel",
          "state": {
            "_view_name": "LayoutView",
            "grid_template_rows": null,
            "right": null,
            "justify_content": null,
            "_view_module": "@jupyter-widgets/base",
            "overflow": null,
            "_model_module_version": "1.2.0",
            "_view_count": null,
            "flex_flow": null,
            "width": null,
            "min_width": null,
            "border": null,
            "align_items": null,
            "bottom": null,
            "_model_module": "@jupyter-widgets/base",
            "top": null,
            "grid_column": null,
            "overflow_y": null,
            "overflow_x": null,
            "grid_auto_flow": null,
            "grid_area": null,
            "grid_template_columns": null,
            "flex": null,
            "_model_name": "LayoutModel",
            "justify_items": null,
            "grid_row": null,
            "max_height": null,
            "align_content": null,
            "visibility": null,
            "align_self": null,
            "height": null,
            "min_height": null,
            "padding": null,
            "grid_auto_rows": null,
            "grid_gap": null,
            "max_width": null,
            "order": null,
            "_view_module_version": "1.2.0",
            "grid_template_areas": null,
            "object_position": null,
            "object_fit": null,
            "grid_auto_columns": null,
            "margin": null,
            "display": null,
            "left": null
          }
        }
      }
    }
  },
  "cells": [
    {
      "cell_type": "code",
      "metadata": {
        "id": "5wSUXZQP_kpQ",
        "colab_type": "code",
        "colab": {}
      },
      "source": [
        "#importing required libraries\n",
        "from PIL import Image\n",
        "import os\n",
        "import sys\n",
        "import csv"
      ],
      "execution_count": null,
      "outputs": []
    },
    {
      "cell_type": "code",
      "metadata": {
        "id": "A5hlHL8hPZea",
        "colab_type": "code",
        "colab": {}
      },
      "source": [
        "#importing required libraries\n",
        "import numpy as np\n",
        "import matplotlib.pyplot as plt\n",
        "from sklearn.model_selection import train_test_split\n",
        "import time\n",
        "import torch\n",
        "import torchvision\n",
        "import cv2\n",
        "from torch.utils.data import DataLoader,Dataset\n",
        "import pandas as pd\n",
        "from torchvision import datasets, transforms"
      ],
      "execution_count": null,
      "outputs": []
    },
    {
      "cell_type": "code",
      "metadata": {
        "id": "accWu8MhCXcG",
        "colab_type": "code",
        "colab": {}
      },
      "source": [
        "#importing required libraries\n",
        "from torchvision import models\n",
        "from torch import optim\n",
        "import torch.nn as nn"
      ],
      "execution_count": null,
      "outputs": []
    },
    {
      "cell_type": "code",
      "metadata": {
        "id": "IIjkfaGG-oBv",
        "colab_type": "code",
        "colab": {}
      },
      "source": [
        "device=torch.device('cuda:0')#Setting the runtime to GPU"
      ],
      "execution_count": null,
      "outputs": []
    },
    {
      "cell_type": "code",
      "metadata": {
        "id": "y7CjwLw9PwUz",
        "colab_type": "code",
        "colab": {}
      },
      "source": [
        "#Setting the transforms\n",
        "mean = (0.485,0.484,0.442)\n",
        "std = (0.229,0.224,0.224)\n",
        "transform = transforms.Compose([\n",
        "                  transforms.RandomResizedCrop(size=256),\n",
        "                  transforms.RandomRotation(degrees=15),\n",
        "                  transforms.RandomHorizontalFlip(),\n",
        "                  transforms.ToTensor(),\n",
        "                  transforms.Normalize(mean,std)\n",
        "])"
      ],
      "execution_count": null,
      "outputs": []
    },
    {
      "cell_type": "code",
      "metadata": {
        "id": "YvrlobbuPz5Z",
        "colab_type": "code",
        "colab": {}
      },
      "source": [
        "#pytorch custom dataset function to load custom dataset\n",
        "class CustomDataset(Dataset):\n",
        "\n",
        "  def __init__(self,csv_file, root_dir, transform=None):\n",
        "    self.annotations = pd.read_csv(csv_file)\n",
        "    self.root_dir = root_dir\n",
        "    self.transform = transform\n",
        "\n",
        "  def __len__(self):\n",
        "    return len(self.annotations)\n",
        "\n",
        "  def __getitem__(self, index):\n",
        "    y_label = torch.tensor(int(self.annotations.iloc[index,-1]))\n",
        "    img_path = os.path.join(self.root_dir, self.annotations.iloc[index,1])\n",
        "    image = Image.open(img_path)\n",
        "    \n",
        "\n",
        "    if self.transform:\n",
        "      image = self.transform(image)\n",
        "\n",
        "    return (image, y_label)"
      ],
      "execution_count": null,
      "outputs": []
    },
    {
      "cell_type": "code",
      "metadata": {
        "id": "iyMfWEyoSsBz",
        "colab_type": "code",
        "colab": {}
      },
      "source": [
        "!unzip data.zip #unzipping the test data"
      ],
      "execution_count": null,
      "outputs": []
    },
    {
      "cell_type": "code",
      "metadata": {
        "id": "9f_EpHtBUG1e",
        "colab_type": "code",
        "colab": {}
      },
      "source": [
        "!unzip /content/data/hacker.zip"
      ],
      "execution_count": null,
      "outputs": []
    },
    {
      "cell_type": "code",
      "metadata": {
        "id": "JI2Lgbf4idKB",
        "colab_type": "code",
        "colab": {
          "base_uri": "https://localhost:8080/",
          "height": 34
        },
        "outputId": "1f30631a-c25d-4c50-f47a-576d5092f9c0"
      },
      "source": [
        "#Reading image and loading the path into list\n",
        "# default format can be changed as needed\n",
        "def createFileList(myDir, format='.jpg'):\n",
        "    fileList = []\n",
        "    print(myDir)\n",
        "    for root, dirs, files in os.walk(myDir, topdown=False):\n",
        "        for name in files:\n",
        "            if name.endswith(format):\n",
        "                fullName = os.path.join(root, name)\n",
        "                fileList.append(fullName)\n",
        "    return fileList\n",
        "\n",
        "# load the original image\n",
        "myFileList = createFileList('/content/hacker/Adult')\n"
      ],
      "execution_count": null,
      "outputs": [
        {
          "output_type": "stream",
          "text": [
            "/content/hacker/Adult\n"
          ],
          "name": "stdout"
        }
      ]
    },
    {
      "cell_type": "code",
      "metadata": {
        "id": "ThscI7WFiuJe",
        "colab_type": "code",
        "colab": {}
      },
      "source": [
        "#Creating dataframe for adult category and label is '0'.\n",
        "df=pd.DataFrame()\n",
        "df['image']=myFileList\n",
        "df['label']=[0 for i in range(len(df['image']))]"
      ],
      "execution_count": null,
      "outputs": []
    },
    {
      "cell_type": "code",
      "metadata": {
        "id": "KWPDqfeai8G9",
        "colab_type": "code",
        "colab": {
          "base_uri": "https://localhost:8080/",
          "height": 34
        },
        "outputId": "e5d3f849-d7b3-4ca2-d867-2f4f30fc5343"
      },
      "source": [
        "#Reading image and loading the path into list using above function\n",
        "myFileList1 = createFileList('/content/hacker/teenager')"
      ],
      "execution_count": null,
      "outputs": [
        {
          "output_type": "stream",
          "text": [
            "/content/hacker/teenager\n"
          ],
          "name": "stdout"
        }
      ]
    },
    {
      "cell_type": "code",
      "metadata": {
        "id": "Dl1ejCDzk3d7",
        "colab_type": "code",
        "colab": {}
      },
      "source": [
        "#Creating dataframe for teenager category and label is '1'.\n",
        "df1=pd.DataFrame()\n",
        "df1['image']=myFileList1\n",
        "df1['label']=[1 for i in range(len(df1['image']))]"
      ],
      "execution_count": null,
      "outputs": []
    },
    {
      "cell_type": "code",
      "metadata": {
        "id": "2rRWx7sjlASv",
        "colab_type": "code",
        "colab": {
          "base_uri": "https://localhost:8080/",
          "height": 34
        },
        "outputId": "937359f6-7823-4409-eb9d-6eb32d1888e8"
      },
      "source": [
        "#Reading image and loading the path into list using above function\n",
        "myFileList2 = createFileList('/content/hacker/toddler')"
      ],
      "execution_count": null,
      "outputs": [
        {
          "output_type": "stream",
          "text": [
            "/content/hacker/toddler\n"
          ],
          "name": "stdout"
        }
      ]
    },
    {
      "cell_type": "code",
      "metadata": {
        "id": "TktzDEN8lKGr",
        "colab_type": "code",
        "colab": {}
      },
      "source": [
        "#Creating dataframe for toddler category and label is '2'.\n",
        "df2=pd.DataFrame()\n",
        "df2['image']=myFileList2\n",
        "df2['label']=[2 for i in range(len(df2['image']))]"
      ],
      "execution_count": null,
      "outputs": []
    },
    {
      "cell_type": "code",
      "metadata": {
        "id": "-u4qyY1NlQf0",
        "colab_type": "code",
        "colab": {}
      },
      "source": [
        "#Cancat three dataframes(Adult,Toddler and teenager) into one dataframe and generate csv file\n",
        "d=pd.concat([df,df1,df2])\n",
        "d.to_csv('/content/data.csv')"
      ],
      "execution_count": null,
      "outputs": []
    },
    {
      "cell_type": "code",
      "metadata": {
        "id": "drbEdDoglZkB",
        "colab_type": "code",
        "colab": {}
      },
      "source": [
        "#Loading into custom dataset\n",
        "dataset = CustomDataset('/content/data.csv','/content/hacker', transform=transform)"
      ],
      "execution_count": null,
      "outputs": []
    },
    {
      "cell_type": "code",
      "metadata": {
        "id": "B1-kAMILOqVp",
        "colab_type": "code",
        "colab": {
          "base_uri": "https://localhost:8080/",
          "height": 34
        },
        "outputId": "9528e9b8-66e2-4be7-b08a-e4198b821bed"
      },
      "source": [
        "len(dataset)#Dataset size"
      ],
      "execution_count": null,
      "outputs": [
        {
          "output_type": "execute_result",
          "data": {
            "text/plain": [
              "974"
            ]
          },
          "metadata": {
            "tags": []
          },
          "execution_count": 20
        }
      ]
    },
    {
      "cell_type": "code",
      "metadata": {
        "id": "J6mx5JROla_4",
        "colab_type": "code",
        "colab": {}
      },
      "source": [
        "#Defining the size of train and test for splitting\n",
        "train_size = int(0.8 * 974)\n",
        "test_size = 974 - train_size"
      ],
      "execution_count": null,
      "outputs": []
    },
    {
      "cell_type": "code",
      "metadata": {
        "id": "QcA0gEvNnCjW",
        "colab_type": "code",
        "colab": {}
      },
      "source": [
        "trainset, testset = torch.utils.data.random_split(dataset, [train_size, test_size]) # Splitting the dataset into train & test"
      ],
      "execution_count": null,
      "outputs": []
    },
    {
      "cell_type": "code",
      "metadata": {
        "id": "61leU1_SnGPf",
        "colab_type": "code",
        "colab": {}
      },
      "source": [
        "trainloader = DataLoader(trainset, batch_size=32, shuffle=True)  # Creating dataloader for training\n"
      ],
      "execution_count": null,
      "outputs": []
    },
    {
      "cell_type": "code",
      "metadata": {
        "id": "sMy8FDK098O6",
        "colab_type": "code",
        "colab": {}
      },
      "source": [
        "testloader = DataLoader(testset, batch_size=32, shuffle=True)#test data"
      ],
      "execution_count": null,
      "outputs": []
    },
    {
      "cell_type": "code",
      "metadata": {
        "id": "PhoV5vJTnLuG",
        "colab_type": "code",
        "colab": {
          "base_uri": "https://localhost:8080/",
          "height": 85
        },
        "outputId": "8a9da129-900d-45e8-acf7-e6dcd54cf6ba"
      },
      "source": [
        "#Checking the shapes of images and labels\n",
        "images, labels = iter(trainloader).next()\n",
        "print(images.shape)\n",
        "print(labels.shape)\n",
        "print(labels)"
      ],
      "execution_count": null,
      "outputs": [
        {
          "output_type": "stream",
          "text": [
            "torch.Size([32, 3, 256, 256])\n",
            "torch.Size([32])\n",
            "tensor([0, 2, 0, 2, 1, 2, 2, 0, 0, 0, 1, 1, 2, 0, 0, 1, 0, 2, 0, 0, 1, 2, 1, 1,\n",
            "        2, 0, 2, 1, 0, 2, 0, 1])\n"
          ],
          "name": "stdout"
        }
      ]
    },
    {
      "cell_type": "code",
      "metadata": {
        "id": "Nc19GHIOpzby",
        "colab_type": "code",
        "colab": {}
      },
      "source": [
        "#Initializing vgg16 and printing the model\n",
        "m=models.vgg16()\n",
        "print(m)"
      ],
      "execution_count": null,
      "outputs": []
    },
    {
      "cell_type": "code",
      "metadata": {
        "id": "wLppHg0eKRUO",
        "colab_type": "code",
        "colab": {}
      },
      "source": [
        "#Changing the out classes into 3 because we have three classes\n",
        "def create_model1(n_classes):\n",
        "  model = models.vgg19(pretrained=True)\n",
        "  \n",
        "  n_features = model.classifier[6].in_features\n",
        "\n",
        "  model.classifier = nn.Sequential(\n",
        "     nn.Linear(in_features=25088, out_features=4096, bias=True),\n",
        "     nn.ReLU(inplace=True),\n",
        "     nn.Dropout(p=0.5, inplace=False),\n",
        "     nn.Linear(in_features=4096, out_features=4096, bias=True),\n",
        "     nn.ReLU(inplace=True),\n",
        "     nn.Dropout(p=0.5, inplace=False),\n",
        "     nn.Linear(n_features, out_features=500, bias=True),\n",
        "     nn.ReLU(inplace=True),\n",
        "     nn.Linear(in_features=500, out_features=n_classes, bias=True),\n",
        "  )\n",
        "  return model"
      ],
      "execution_count": null,
      "outputs": []
    },
    {
      "cell_type": "code",
      "metadata": {
        "id": "vV2DrMN9L9NB",
        "colab_type": "code",
        "colab": {
          "base_uri": "https://localhost:8080/",
          "height": 1000,
          "referenced_widgets": [
            "c62cfec1d1cc4342b0037ad3d4ab07e5",
            "379cf2982af9482a99e54639a9bea70e",
            "abba4815b2194a93a1f8990e3ce64aa6",
            "aa5b7958d42340668eb7f6528e95ffcf",
            "cd056bce89f747a5b78eec71649304b4",
            "c98fd311187043078071e000deb8c5b8",
            "e2ccdc52c0d148b2b02efbff96cb78fe",
            "03e1827039a34abbbf4ea94561031c3c"
          ]
        },
        "outputId": "f9b790b7-fa62-4471-fce9-4eaa514125e1"
      },
      "source": [
        "#Calling the function and print required model\n",
        "m=create_model1(3).to(device)\n",
        "print(m)"
      ],
      "execution_count": null,
      "outputs": [
        {
          "output_type": "stream",
          "text": [
            "Downloading: \"https://download.pytorch.org/models/vgg19-dcbb9e9d.pth\" to /root/.cache/torch/hub/checkpoints/vgg19-dcbb9e9d.pth\n"
          ],
          "name": "stderr"
        },
        {
          "output_type": "display_data",
          "data": {
            "application/vnd.jupyter.widget-view+json": {
              "model_id": "c62cfec1d1cc4342b0037ad3d4ab07e5",
              "version_minor": 0,
              "version_major": 2
            },
            "text/plain": [
              "HBox(children=(FloatProgress(value=0.0, max=574673361.0), HTML(value='')))"
            ]
          },
          "metadata": {
            "tags": []
          }
        },
        {
          "output_type": "stream",
          "text": [
            "\n",
            "VGG(\n",
            "  (features): Sequential(\n",
            "    (0): Conv2d(3, 64, kernel_size=(3, 3), stride=(1, 1), padding=(1, 1))\n",
            "    (1): ReLU(inplace=True)\n",
            "    (2): Conv2d(64, 64, kernel_size=(3, 3), stride=(1, 1), padding=(1, 1))\n",
            "    (3): ReLU(inplace=True)\n",
            "    (4): MaxPool2d(kernel_size=2, stride=2, padding=0, dilation=1, ceil_mode=False)\n",
            "    (5): Conv2d(64, 128, kernel_size=(3, 3), stride=(1, 1), padding=(1, 1))\n",
            "    (6): ReLU(inplace=True)\n",
            "    (7): Conv2d(128, 128, kernel_size=(3, 3), stride=(1, 1), padding=(1, 1))\n",
            "    (8): ReLU(inplace=True)\n",
            "    (9): MaxPool2d(kernel_size=2, stride=2, padding=0, dilation=1, ceil_mode=False)\n",
            "    (10): Conv2d(128, 256, kernel_size=(3, 3), stride=(1, 1), padding=(1, 1))\n",
            "    (11): ReLU(inplace=True)\n",
            "    (12): Conv2d(256, 256, kernel_size=(3, 3), stride=(1, 1), padding=(1, 1))\n",
            "    (13): ReLU(inplace=True)\n",
            "    (14): Conv2d(256, 256, kernel_size=(3, 3), stride=(1, 1), padding=(1, 1))\n",
            "    (15): ReLU(inplace=True)\n",
            "    (16): Conv2d(256, 256, kernel_size=(3, 3), stride=(1, 1), padding=(1, 1))\n",
            "    (17): ReLU(inplace=True)\n",
            "    (18): MaxPool2d(kernel_size=2, stride=2, padding=0, dilation=1, ceil_mode=False)\n",
            "    (19): Conv2d(256, 512, kernel_size=(3, 3), stride=(1, 1), padding=(1, 1))\n",
            "    (20): ReLU(inplace=True)\n",
            "    (21): Conv2d(512, 512, kernel_size=(3, 3), stride=(1, 1), padding=(1, 1))\n",
            "    (22): ReLU(inplace=True)\n",
            "    (23): Conv2d(512, 512, kernel_size=(3, 3), stride=(1, 1), padding=(1, 1))\n",
            "    (24): ReLU(inplace=True)\n",
            "    (25): Conv2d(512, 512, kernel_size=(3, 3), stride=(1, 1), padding=(1, 1))\n",
            "    (26): ReLU(inplace=True)\n",
            "    (27): MaxPool2d(kernel_size=2, stride=2, padding=0, dilation=1, ceil_mode=False)\n",
            "    (28): Conv2d(512, 512, kernel_size=(3, 3), stride=(1, 1), padding=(1, 1))\n",
            "    (29): ReLU(inplace=True)\n",
            "    (30): Conv2d(512, 512, kernel_size=(3, 3), stride=(1, 1), padding=(1, 1))\n",
            "    (31): ReLU(inplace=True)\n",
            "    (32): Conv2d(512, 512, kernel_size=(3, 3), stride=(1, 1), padding=(1, 1))\n",
            "    (33): ReLU(inplace=True)\n",
            "    (34): Conv2d(512, 512, kernel_size=(3, 3), stride=(1, 1), padding=(1, 1))\n",
            "    (35): ReLU(inplace=True)\n",
            "    (36): MaxPool2d(kernel_size=2, stride=2, padding=0, dilation=1, ceil_mode=False)\n",
            "  )\n",
            "  (avgpool): AdaptiveAvgPool2d(output_size=(7, 7))\n",
            "  (classifier): Sequential(\n",
            "    (0): Linear(in_features=25088, out_features=4096, bias=True)\n",
            "    (1): ReLU(inplace=True)\n",
            "    (2): Dropout(p=0.5, inplace=False)\n",
            "    (3): Linear(in_features=4096, out_features=4096, bias=True)\n",
            "    (4): ReLU(inplace=True)\n",
            "    (5): Dropout(p=0.5, inplace=False)\n",
            "    (6): Linear(in_features=4096, out_features=500, bias=True)\n",
            "    (7): ReLU(inplace=True)\n",
            "    (8): Linear(in_features=500, out_features=3, bias=True)\n",
            "  )\n",
            ")\n"
          ],
          "name": "stdout"
        }
      ]
    },
    {
      "cell_type": "code",
      "metadata": {
        "id": "4uF11xygoTbu",
        "colab_type": "code",
        "colab": {}
      },
      "source": [
        "#defining the evaluation for our model\n",
        "def evaluation(dataloader):\n",
        "    total, correct = 0, 0\n",
        "    for data in dataloader:\n",
        "        inputs, labels = data\n",
        "        inputs, labels =inputs.to(device), labels.to(device)\n",
        "        outputs = m(inputs)\n",
        "        _, pred = torch.max(outputs.data, 1)\n",
        "        total += labels.size(0)\n",
        "        correct += (pred == labels).sum().item()\n",
        "    return 100 * correct / total"
      ],
      "execution_count": null,
      "outputs": []
    },
    {
      "cell_type": "code",
      "metadata": {
        "id": "NBbEZ74podx9",
        "colab_type": "code",
        "colab": {}
      },
      "source": [
        "#Setting the optimiser and loss function\n",
        "opt = optim.SGD(m.parameters(),lr=0.003,momentum=0.8)\n",
        "loss_fn = nn.CrossEntropyLoss()"
      ],
      "execution_count": null,
      "outputs": []
    },
    {
      "cell_type": "code",
      "metadata": {
        "id": "LVCfVw5GogFj",
        "colab_type": "code",
        "colab": {
          "base_uri": "https://localhost:8080/",
          "height": 554
        },
        "outputId": "9f5db009-9d6f-44e7-f5ee-ac8a7f737de8"
      },
      "source": [
        "#Training our model and plotting the loss\n",
        "%%time\n",
        "loss_arr = []\n",
        "loss_epoch_arr = []\n",
        "max_epochs = 15\n",
        "     \n",
        "for epoch in range(max_epochs):\n",
        "     \n",
        "  for i, data in enumerate(trainloader, 0):\n",
        "     \n",
        "    inputs, labels = data\n",
        "    inputs, labels =inputs.to(device), labels.to(device)\n",
        "    opt.zero_grad()\n",
        "     \n",
        "    outputs = m(inputs)\n",
        "    loss = loss_fn(outputs, labels)\n",
        "    loss.backward()\n",
        "    opt.step()  \n",
        "    del inputs,labels,outputs\n",
        "    torch.cuda.empty_cache()\n",
        "    loss_arr.append(loss.item())\n",
        "        \n",
        "  loss_epoch_arr.append(loss.item())\n",
        "         \n",
        "  print('Epoch: %d/%d, Test acc: %0.2f, Train acc: %0.2f' % (epoch, max_epochs, evaluation(testloader), evaluation(trainloader)))\n",
        "\n",
        "plt.plot(loss_epoch_arr)\n",
        "plt.show()"
      ],
      "execution_count": null,
      "outputs": [
        {
          "output_type": "stream",
          "text": [
            "Epoch: 0/15, Test acc: 38.97, Train acc: 38.38\n",
            "Epoch: 1/15, Test acc: 46.15, Train acc: 45.70\n",
            "Epoch: 2/15, Test acc: 53.85, Train acc: 47.50\n",
            "Epoch: 3/15, Test acc: 54.87, Train acc: 60.46\n",
            "Epoch: 4/15, Test acc: 52.31, Train acc: 52.37\n",
            "Epoch: 5/15, Test acc: 50.26, Train acc: 56.23\n",
            "Epoch: 6/15, Test acc: 54.36, Train acc: 63.03\n",
            "Epoch: 7/15, Test acc: 66.67, Train acc: 67.52\n",
            "Epoch: 8/15, Test acc: 64.62, Train acc: 70.47\n",
            "Epoch: 9/15, Test acc: 59.49, Train acc: 65.47\n",
            "Epoch: 10/15, Test acc: 57.95, Train acc: 60.46\n",
            "Epoch: 11/15, Test acc: 61.03, Train acc: 67.65\n",
            "Epoch: 12/15, Test acc: 63.08, Train acc: 71.63\n",
            "Epoch: 13/15, Test acc: 64.62, Train acc: 72.66\n",
            "Epoch: 14/15, Test acc: 59.49, Train acc: 65.73\n"
          ],
          "name": "stdout"
        },
        {
          "output_type": "display_data",
          "data": {
            "image/png": "[encoded data removed]",
            "text/plain": [
              "<Figure size 432x288 with 1 Axes>"
            ]
          },
          "metadata": {
            "tags": [],
            "needs_background": "light"
          }
        },
        {
          "output_type": "stream",
          "text": [
            "CPU times: user 11min 18s, sys: 5min 15s, total: 16min 33s\n",
            "Wall time: 16min 33s\n"
          ],
          "name": "stdout"
        }
      ]
    },
    {
      "cell_type": "markdown",
      "metadata": {
        "id": "HUHNGbD-3f-R",
        "colab_type": "text"
      },
      "source": [
        "Test data"
      ]
    },
    {
      "cell_type": "code",
      "metadata": {
        "id": "E-18uqskFLfA",
        "colab_type": "code",
        "colab": {}
      },
      "source": [
        "!unzip /content/test.zip #unzipping test data"
      ],
      "execution_count": null,
      "outputs": []
    },
    {
      "cell_type": "code",
      "metadata": {
        "id": "42oCD6La3nRC",
        "colab_type": "code",
        "colab": {
          "base_uri": "https://localhost:8080/",
          "height": 34
        },
        "outputId": "786e3c79-bddc-4f7f-b564-395158afd468"
      },
      "source": [
        "test_list= createFileList('/content/test') #image path for test images"
      ],
      "execution_count": null,
      "outputs": [
        {
          "output_type": "stream",
          "text": [
            "/content/test\n"
          ],
          "name": "stdout"
        }
      ]
    },
    {
      "cell_type": "code",
      "metadata": {
        "id": "eJCsRJCoBIWV",
        "colab_type": "code",
        "colab": {}
      },
      "source": [
        "label=['Adults','Teenagers','Toddler'] #creating labels"
      ],
      "execution_count": null,
      "outputs": []
    },
    {
      "cell_type": "code",
      "metadata": {
        "id": "sz-X7seDJcKO",
        "colab_type": "code",
        "colab": {}
      },
      "source": [
        "y=[]"
      ],
      "execution_count": null,
      "outputs": []
    },
    {
      "cell_type": "code",
      "metadata": {
        "id": "4x7kBRmq_Cqg",
        "colab_type": "code",
        "colab": {}
      },
      "source": [
        "#Opening very image and predicting outputs\n",
        "for i in test_list:\n",
        "  img=Image.open(i)\n",
        "  img_trans = transform(img)\n",
        "  image= img_trans.unsqueeze(0).to(device)\n",
        "  result = m(image)\n",
        "  y_=torch.argmax(result,axis=1)\n",
        "  y_=int(np.asarray(y_[0].cpu()))\n",
        "  y.append(label[y_])"
      ],
      "execution_count": null,
      "outputs": []
    },
    {
      "cell_type": "code",
      "metadata": {
        "id": "hs9BK2oyJnJ0",
        "colab_type": "code",
        "colab": {
          "base_uri": "https://localhost:8080/",
          "height": 34
        },
        "outputId": "46268030-fc8f-464f-d51e-a5abc8126fce"
      },
      "source": [
        "len(y)"
      ],
      "execution_count": null,
      "outputs": [
        {
          "output_type": "execute_result",
          "data": {
            "text/plain": [
              "314"
            ]
          },
          "metadata": {
            "tags": []
          },
          "execution_count": 64
        }
      ]
    },
    {
      "cell_type": "code",
      "metadata": {
        "id": "Zgrd8NFyChu9",
        "colab_type": "code",
        "colab": {}
      },
      "source": [
        "#Generating csv file for submission\n",
        "li=os.listdir('/content/test')\n",
        "sub=pd.DataFrame()\n",
        "sub['Filename']=[i for i in li]\n",
        "sub['Category']=[i for i in y]"
      ],
      "execution_count": null,
      "outputs": []
    },
    {
      "cell_type": "code",
      "metadata": {
        "id": "NBLMOgEEIw_0",
        "colab_type": "code",
        "colab": {}
      },
      "source": [
        "sub.to_csv('/content/19.csv',index=False)"
      ],
      "execution_count": null,
      "outputs": []
    }
  ]
}